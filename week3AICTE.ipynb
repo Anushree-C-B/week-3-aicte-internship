{
  "nbformat": 4,
  "nbformat_minor": 0,
  "metadata": {
    "colab": {
      "provenance": [],
      "authorship_tag": "ABX9TyP1EdEcL671LRPWitfJqRfQ",
      "include_colab_link": true
    },
    "kernelspec": {
      "name": "python3",
      "display_name": "Python 3"
    },
    "language_info": {
      "name": "python"
    }
  },
  "cells": [
    {
      "cell_type": "markdown",
      "metadata": {
        "id": "view-in-github",
        "colab_type": "text"
      },
      "source": [
        "<a href=\"https://colab.research.google.com/github/Anushree-C-B/week-3-aicte-internship/blob/main/week3AICTE.ipynb\" target=\"_parent\"><img src=\"https://colab.research.google.com/assets/colab-badge.svg\" alt=\"Open In Colab\"/></a>"
      ]
    },
    {
      "cell_type": "code",
      "execution_count": 1,
      "metadata": {
        "colab": {
          "base_uri": "https://localhost:8080/"
        },
        "id": "-tMu6wB0HjLu",
        "outputId": "82c7c9ea-aeeb-4719-c94d-b174671339c6"
      },
      "outputs": [
        {
          "output_type": "stream",
          "name": "stdout",
          "text": [
            "\n",
            "Expense Tracker Menu:\n",
            "1. Add Expense\n",
            "2. View Expenses\n",
            "3. Exit\n",
            "Enter your choice (1/2/3): 1\n",
            "Enter expense category: bag\n",
            "Enter expense amount: 900\n",
            "Expense of $900.0 added to bag category.\n",
            "\n",
            "Expense Tracker Menu:\n",
            "1. Add Expense\n",
            "2. View Expenses\n",
            "3. Exit\n",
            "Enter your choice (1/2/3): 1\n",
            "Enter expense category: pen\n",
            "Enter expense amount: 100\n",
            "Expense of $100.0 added to pen category.\n",
            "\n",
            "Expense Tracker Menu:\n",
            "1. Add Expense\n",
            "2. View Expenses\n",
            "3. Exit\n",
            "Enter your choice (1/2/3): 2\n",
            "\n",
            "Expense Summary:\n",
            "bag: $900.0\n",
            "pen: $100.0\n",
            "Total Expense: $1000.0\n",
            "\n",
            "\n",
            "Expense Tracker Menu:\n",
            "1. Add Expense\n",
            "2. View Expenses\n",
            "3. Exit\n",
            "Enter your choice (1/2/3): 3\n",
            "Exiting Expense Tracker. Goodbye!\n"
          ]
        }
      ],
      "source": [
        "class ExpenseTracker:\n",
        "    def __init__(self):\n",
        "        self.expenses = {}\n",
        "\n",
        "    def add_expense(self, category, amount):\n",
        "        if category in self.expenses:\n",
        "            self.expenses[category] += amount\n",
        "        else:\n",
        "            self.expenses[category] = amount\n",
        "        print(f\"Expense of ${amount} added to {category} category.\")\n",
        "\n",
        "    def view_expenses(self):\n",
        "        print(\"\\nExpense Summary:\")\n",
        "        for category, amount in self.expenses.items():\n",
        "            print(f\"{category}: ${amount}\")\n",
        "        total_expense = sum(self.expenses.values())\n",
        "        print(f\"Total Expense: ${total_expense}\\n\")\n",
        "\n",
        "\n",
        "def main():\n",
        "    expense_tracker = ExpenseTracker()\n",
        "\n",
        "    while True:\n",
        "        print(\"\\nExpense Tracker Menu:\")\n",
        "        print(\"1. Add Expense\")\n",
        "        print(\"2. View Expenses\")\n",
        "        print(\"3. Exit\")\n",
        "\n",
        "        choice = input(\"Enter your choice (1/2/3): \")\n",
        "\n",
        "        if choice == '1':\n",
        "            category = input(\"Enter expense category: \")\n",
        "            amount = float(input(\"Enter expense amount: \"))\n",
        "            expense_tracker.add_expense(category, amount)\n",
        "        elif choice == '2':\n",
        "            expense_tracker.view_expenses()\n",
        "        elif choice == '3':\n",
        "            print(\"Exiting Expense Tracker. Goodbye!\")\n",
        "            break\n",
        "        else:\n",
        "            print(\"Invalid choice. Please enter 1, 2, or 3.\")\n",
        "\n",
        "\n",
        "if __name__ == \"__main__\":\n",
        "    main()\n",
        "\n"
      ]
    }
  ]
}